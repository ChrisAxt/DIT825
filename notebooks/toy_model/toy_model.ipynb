{
 "cells": [
  {
   "cell_type": "code",
   "execution_count": 1,
   "id": "4c04b4ec",
   "metadata": {},
   "outputs": [],
   "source": [
    "# For N-dimensional array manipulation\n",
    "import numpy as np\n",
    "# Plotting library\n",
    "import matplotlib.pyplot as plt\n",
    "# For data analysis and data structures in DataFrames\n",
    "import pandas as pd\n",
    "# For data visualization\n",
    "import seaborn as sns\n",
    "\n",
    "# For machine learning algorithms and evaluation metrics\n",
    "import sklearn\n",
    "from sklearn.model_selection import train_test_split\n",
    "from sklearn import metrics\n"
   ]
  },
  {
   "cell_type": "code",
   "execution_count": 2,
   "id": "f8938059",
   "metadata": {},
   "outputs": [
    {
     "name": "stdout",
     "output_type": "stream",
     "text": [
      "<bound method NDFrame.head of       Unnamed: 0                                           sentence  \\\n",
      "0              0  YouTube is making clear there will be no “birt...   \n",
      "1              1  The increasingly bitter dispute between Americ...   \n",
      "2              2  So while there may be a humanitarian crisis dr...   \n",
      "3              3  A professor who teaches climate change classes...   \n",
      "4              4  Looking around the United States, there is nev...   \n",
      "...          ...                                                ...   \n",
      "1695        1695  In every case legislators are being swarmed by...   \n",
      "1696        1696  Polls show the transgender ideology is deeply ...   \n",
      "1697        1697  Democrats and Republicans stood and applauded ...   \n",
      "1698        1698  As a self-described Democratic socialist, Sen....   \n",
      "1699        1699  During the segment, Colbert also bemoaned the ...   \n",
      "\n",
      "                                              news_link      outlet  \\\n",
      "0     https://eu.usatoday.com/story/tech/2020/02/03/...   usa-today   \n",
      "1     https://www.nbcnews.com/news/sports/women-s-te...       msnbc   \n",
      "2     https://www.alternet.org/2019/01/here-are-5-of...    alternet   \n",
      "3     https://www.breitbart.com/politics/2019/05/09/...   breitbart   \n",
      "4     https://thefederalist.com/2020/03/11/woman-who...  federalist   \n",
      "...                                                 ...         ...   \n",
      "1695  https://www.alternet.org/2019/04/republicans-w...    alternet   \n",
      "1696  https://www.breitbart.com/politics/2019/02/21/...   breitbart   \n",
      "1697  https://eu.usatoday.com/story/news/politics/20...   usa-today   \n",
      "1698  https://www.foxnews.com/politics/how-did-berni...    fox-news   \n",
      "1699  https://www.breitbart.com/entertainment/2018/1...   breitbart   \n",
      "\n",
      "                  topic    type  group_id  num_sent  Label_bias  \\\n",
      "0        elections-2020  center         1         1      Biased   \n",
      "1                 sport    left         1         1  Non-biased   \n",
      "2           immigration    left         1         1      Biased   \n",
      "3           environment   right         1         1  Non-biased   \n",
      "4              abortion   right         1         1      Biased   \n",
      "...                 ...     ...       ...       ...         ...   \n",
      "1695             gender    left        85         1      Biased   \n",
      "1696             gender   right        85         1      Biased   \n",
      "1697             gender  center        85         1  Non-biased   \n",
      "1698       middle-class   right        85         1  Non-biased   \n",
      "1699  white-nationalism   right        85         1  Non-biased   \n",
      "\n",
      "                              Label_opinion  \\\n",
      "0     Somewhat factual but also opinionated   \n",
      "1                          Entirely factual   \n",
      "2                Expresses writer’s opinion   \n",
      "3                              No agreement   \n",
      "4     Somewhat factual but also opinionated   \n",
      "...                                     ...   \n",
      "1695             Expresses writer’s opinion   \n",
      "1696  Somewhat factual but also opinionated   \n",
      "1697                       Entirely factual   \n",
      "1698                       Entirely factual   \n",
      "1699                           No agreement   \n",
      "\n",
      "                                                article  \\\n",
      "0     YouTube says no ‘deepfakes’ or ‘birther’ video...   \n",
      "1     FRISCO, Texas — The increasingly bitter disput...   \n",
      "2     Speaking to the country for the first time fro...   \n",
      "3     A professor who teaches climate change classes...   \n",
      "4     The left has a thing for taking babies hostage...   \n",
      "...                                                 ...   \n",
      "1695  There are many reasons that Republicans and co...   \n",
      "1696  A man’s penis becomes a female penis once a ma...   \n",
      "1697                                                NaN   \n",
      "1698  As a self-described Democratic socialist, Sen....   \n",
      "1699  CBS Late Show host Stephen Colbert claimed on ...   \n",
      "\n",
      "                                          biased_words4  \n",
      "0                             ['belated', 'birtherism']  \n",
      "1                                            ['bitter']  \n",
      "2                                            ['crisis']  \n",
      "3                                        ['legitimate']  \n",
      "4     ['killing', 'never', 'developing', 'humans', '...  \n",
      "...                                                 ...  \n",
      "1695    ['deceit', 'hysteria', 'swarmed', 'right-wing']  \n",
      "1696                          ['ideology', 'unpopular']  \n",
      "1697                                        ['saluted']  \n",
      "1698                                      ['outspoken']  \n",
      "1699                                       ['bemoaned']  \n",
      "\n",
      "[1700 rows x 12 columns]>\n"
     ]
    }
   ],
   "source": [
    "\n",
    "# Load dataset\n",
    "df = pd.read_csv('media_bias.csv')\n",
    "\n",
    "# Print head to see whether load was successful\n",
    "print(df.head)\n",
    "\n",
    "# Remove rows where 'Label_bias' is 'No agreement'\n",
    "df = df[df.Label_bias != 'No agreement']\n",
    "\n",
    "# separate the data into dependent and independent variables (only using sentence column)\n",
    "X = df['sentence']\n",
    "y = df['Label_bias']\n"
   ]
  },
  {
   "cell_type": "code",
   "execution_count": 3,
   "id": "c20d3c31",
   "metadata": {},
   "outputs": [],
   "source": [
    "# Replace label with 0, 1\n",
    "y = y.replace('Biased', 0)\n",
    "y = y.replace('Non-biased', 1)\n",
    "\n",
    "# Remove numbers from all strings in X\n",
    "X = X.str.replace('\\d+', '', regex=True)\n",
    "\n",
    "# Remove punctuation from all strings in X\n",
    "X = X.str.replace('[^\\w\\s]','',regex=True)"
   ]
  },
  {
   "cell_type": "code",
   "execution_count": 4,
   "id": "fe4278a9",
   "metadata": {},
   "outputs": [
    {
     "name": "stdout",
     "output_type": "stream",
     "text": [
      "Total number of features:  8729\n",
      "(1551, 8729)\n"
     ]
    }
   ],
   "source": [
    "# Print feature names from countvectorizer\n",
    "from sklearn.feature_extraction.text import CountVectorizer\n",
    "cv = CountVectorizer()\n",
    "feature_vector = cv.fit(X) # Fit the Data\n",
    "\n",
    "# Get the feature names\n",
    "word = feature_vector.get_feature_names_out()\n",
    "print( \"Total number of features: \", len(word))\n",
    "\n",
    "train_features = cv.transform(X)\n",
    "type(train_features)\n",
    "\n",
    "print(train_features.shape)"
   ]
  },
  {
   "cell_type": "code",
   "execution_count": 5,
   "id": "00acba63",
   "metadata": {},
   "outputs": [
    {
     "name": "stdout",
     "output_type": "stream",
     "text": [
      "              features  counts\n",
      "aaron            aaron       1\n",
      "abandon        abandon       1\n",
      "abandoned    abandoned       2\n",
      "abbott          abbott       2\n",
      "abe                abe       1\n",
      "abetting      abetting       1\n",
      "abhor            abhor       1\n",
      "abhors          abhors       1\n",
      "abilities    abilities       1\n",
      "ability        ability       6\n",
      "abjectness  abjectness       1\n",
      "able              able       5\n",
      "ablution      ablution       1\n",
      "aborted        aborted       1\n",
      "aborting      aborting       1\n"
     ]
    }
   ],
   "source": [
    "# Create dataframe from train_features\n",
    "df_train_features = pd.DataFrame(train_features.toarray(), columns=word)\n",
    "\n",
    "# Count the amount of times each word appears\n",
    "word_count = df_train_features.sum(axis=0)\n",
    "\n",
    "# Create dataframe from word_count\n",
    "df_word_count = pd.DataFrame(dict(features = word,counts = word_count))\n",
    "df_word_count.sort_values('counts', ascending = False)[0:15]\n",
    "print(df_word_count.head(15))\n",
    "\n",
    "# Split the data into training and testing sets\n",
    "X_train, X_test, y_train, y_test = train_test_split(df_train_features, y, test_size=0.2, random_state=42)\n"
   ]
  },
  {
   "cell_type": "code",
   "execution_count": 6,
   "id": "c5d0e393",
   "metadata": {},
   "outputs": [],
   "source": [
    "# Fit the model to the data\n",
    "from sklearn.naive_bayes import BernoulliNB\n",
    "model = BernoulliNB()\n",
    "model.fit(X_train, y_train)\n",
    "\n",
    "# Predict the test set results\n",
    "y_pred = model.predict(X_test)\n"
   ]
  },
  {
   "cell_type": "code",
   "execution_count": 7,
   "id": "c1171ed9",
   "metadata": {},
   "outputs": [
    {
     "name": "stdout",
     "output_type": "stream",
     "text": [
      "              precision    recall  f1-score   support\n",
      "\n",
      "           0       0.73      0.96      0.83       208\n",
      "           1       0.78      0.27      0.40       103\n",
      "\n",
      "    accuracy                           0.73       311\n",
      "   macro avg       0.75      0.62      0.62       311\n",
      "weighted avg       0.74      0.73      0.69       311\n",
      "\n",
      "Accuracy: 0.7331189710610932\n"
     ]
    },
    {
     "data": {
      "image/png": "[encoded data removed]",
      "text/plain": [
       "<Figure size 640x480 with 2 Axes>"
      ]
     },
     "metadata": {},
     "output_type": "display_data"
    }
   ],
   "source": [
    "# Print classification report\n",
    "print(metrics.classification_report(y_test, y_pred))\n",
    "\n",
    "# Print the accuracy score\n",
    "print(\"Accuracy:\",metrics.accuracy_score(y_test, y_pred))\n",
    "\n",
    "# Print the confusion matrix and heatmap\n",
    "cm = metrics.confusion_matrix(y_test, y_pred)\n",
    "sns.heatmap(cm, annot=True, fmt=\"d\")\n",
    "plt.title(\"Confusion matrix\")\n",
    "plt.ylabel('True label')\n",
    "plt.xlabel('Predicted label')\n",
    "plt.show()\n"
   ]
  }
 ],
 "metadata": {
  "kernelspec": {
   "display_name": "Python 3.10.7 64-bit",
   "language": "python",
   "name": "python3"
  },
  "language_info": {
   "codemirror_mode": {
    "name": "ipython",
    "version": 3
   },
   "file_extension": ".py",
   "mimetype": "text/x-python",
   "name": "python",
   "nbconvert_exporter": "python",
   "pygments_lexer": "ipython3",
   "version": "3.10.7"
  },
  "vscode": {
   "interpreter": {
    "hash": "b2abd1138ce1c26e3850e921765871411c611b4978bcd07656c7e4d1d85e9831"
   }
  }
 },
 "nbformat": 4,
 "nbformat_minor": 5
}
