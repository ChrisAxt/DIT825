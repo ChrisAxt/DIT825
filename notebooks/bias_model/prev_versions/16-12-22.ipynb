{
 "cells": [
  {
   "cell_type": "code",
   "execution_count": 8,
   "metadata": {},
   "outputs": [],
   "source": [
    "import pandas as pd\n",
    "import tensorflow as tf\n",
    "from sklearn.model_selection import train_test_split\n",
    "from transformers import DistilBertTokenizer, DistilBertForSequenceClassification\n",
    "\n",
    "MAX_SEQUENCE_LENGTH = 128\n",
    "LEARNING_RATE = 1e-5\n",
    "BATCH_SIZE = 32\n",
    "NUM_EPOCHS = 3  \n",
    "\n"
   ]
  },
  {
   "cell_type": "code",
   "execution_count": 9,
   "metadata": {},
   "outputs": [],
   "source": [
    "tokenizer = DistilBertTokenizer.from_pretrained(\"distilbert-base-uncased\")\n",
    "def tokenize(sentences, max_length=MAX_SEQUENCE_LENGTH, padding='max_length'):\n",
    "    # Using the tokenizer from the DistilBert model from HuggingFace\n",
    "    return tokenizer(\n",
    "        sentences,\n",
    "        truncation=True,\n",
    "        padding=padding,\n",
    "        max_length=max_length,\n",
    "        return_tensors=\"tf\"\n",
    "    )\n"
   ]
  },
  {
   "cell_type": "code",
   "execution_count": 4,
   "metadata": {},
   "outputs": [],
   "source": [
    "\n",
    "# Load dataset\n",
    "df = pd.read_csv('../toy_model/media_bias.csv')\n",
    "\n",
    "# Clean dataset\n",
    "df = df[df.Label_bias != 'No agreement']\n",
    "df = df[df.article != 'NaN']\n",
    "df = df[df.sentence != 'NaN']\n",
    "\n",
    "# Replace label with 0, 1\n",
    "df['Label_bias'] = df['Label_bias'].replace('Biased', 1)\n",
    "df['Label_bias'] = df['Label_bias'].replace('Non-biased', 0)\n",
    "\n",
    "df = df.rename(columns={'sentence': 'text', 'Label_bias': 'label'})\n",
    "\n",
    "train_data, validation_data, train_label, validation_label = train_test_split(\n",
    "    df['text'].tolist(),\n",
    "    df['label'].tolist(),\n",
    "    test_size=.15,\n",
    "    shuffle=True\n",
    ")"
   ]
  },
  {
   "cell_type": "code",
   "execution_count": 5,
   "metadata": {},
   "outputs": [],
   "source": [
    "train_dataset = tf.data.Dataset.from_tensor_slices((\n",
    "    dict(tokenize(train_data)),  # Convert BatchEncoding instance to dictionary\n",
    "    train_label\n",
    ")).shuffle(1000).batch(BATCH_SIZE).prefetch(1)\n",
    "validation_dataset = tf.data.Dataset.from_tensor_slices((\n",
    "    dict(tokenize(validation_data)),\n",
    "    validation_label\n",
    ")).batch(BATCH_SIZE).prefetch(1)"
   ]
  },
  {
   "cell_type": "code",
   "execution_count": 7,
   "metadata": {},
   "outputs": [
    {
     "name": "stderr",
     "output_type": "stream",
     "text": [
      "Some weights of the model checkpoint at distilbert-base-uncased were not used when initializing DistilBertForSequenceClassification: ['vocab_projector.weight', 'vocab_layer_norm.weight', 'vocab_projector.bias', 'vocab_transform.weight', 'vocab_layer_norm.bias', 'vocab_transform.bias']\n",
      "- This IS expected if you are initializing DistilBertForSequenceClassification from the checkpoint of a model trained on another task or with another architecture (e.g. initializing a BertForSequenceClassification model from a BertForPreTraining model).\n",
      "- This IS NOT expected if you are initializing DistilBertForSequenceClassification from the checkpoint of a model that you expect to be exactly identical (initializing a BertForSequenceClassification model from a BertForSequenceClassification model).\n",
      "Some weights of DistilBertForSequenceClassification were not initialized from the model checkpoint at distilbert-base-uncased and are newly initialized: ['pre_classifier.bias', 'pre_classifier.weight', 'classifier.weight', 'classifier.bias']\n",
      "You should probably TRAIN this model on a down-stream task to be able to use it for predictions and inference.\n"
     ]
    },
    {
     "ename": "AttributeError",
     "evalue": "'DistilBertForSequenceClassification' object has no attribute 'compile'",
     "output_type": "error",
     "traceback": [
      "\u001b[1;31m---------------------------------------------------------------------------\u001b[0m",
      "\u001b[1;31mAttributeError\u001b[0m                            Traceback (most recent call last)",
      "Cell \u001b[1;32mIn [7], line 8\u001b[0m\n\u001b[0;32m      5\u001b[0m \u001b[39m# add learning layers to model\u001b[39;00m\n\u001b[0;32m      7\u001b[0m optimizer \u001b[39m=\u001b[39m tf\u001b[39m.\u001b[39mkeras\u001b[39m.\u001b[39moptimizers\u001b[39m.\u001b[39mAdam(learning_rate\u001b[39m=\u001b[39mLEARNING_RATE)\n\u001b[1;32m----> 8\u001b[0m model\u001b[39m.\u001b[39;49mcompile(\n\u001b[0;32m      9\u001b[0m     optimizer\u001b[39m=\u001b[39moptimizer,\n\u001b[0;32m     10\u001b[0m     loss\u001b[39m=\u001b[39mtf\u001b[39m.\u001b[39mkeras\u001b[39m.\u001b[39mlosses\u001b[39m.\u001b[39mSparseCategoricalCrossentropy(from_logits\u001b[39m=\u001b[39m\u001b[39mTrue\u001b[39;00m),\n\u001b[0;32m     11\u001b[0m )\n",
      "File \u001b[1;32mc:\\Users\\verni\\AppData\\Local\\Programs\\Python\\Python310\\lib\\site-packages\\torch\\nn\\modules\\module.py:1265\u001b[0m, in \u001b[0;36mModule.__getattr__\u001b[1;34m(self, name)\u001b[0m\n\u001b[0;32m   1263\u001b[0m     \u001b[39mif\u001b[39;00m name \u001b[39min\u001b[39;00m modules:\n\u001b[0;32m   1264\u001b[0m         \u001b[39mreturn\u001b[39;00m modules[name]\n\u001b[1;32m-> 1265\u001b[0m \u001b[39mraise\u001b[39;00m \u001b[39mAttributeError\u001b[39;00m(\u001b[39m\"\u001b[39m\u001b[39m'\u001b[39m\u001b[39m{}\u001b[39;00m\u001b[39m'\u001b[39m\u001b[39m object has no attribute \u001b[39m\u001b[39m'\u001b[39m\u001b[39m{}\u001b[39;00m\u001b[39m'\u001b[39m\u001b[39m\"\u001b[39m\u001b[39m.\u001b[39mformat(\n\u001b[0;32m   1266\u001b[0m     \u001b[39mtype\u001b[39m(\u001b[39mself\u001b[39m)\u001b[39m.\u001b[39m\u001b[39m__name__\u001b[39m, name))\n",
      "\u001b[1;31mAttributeError\u001b[0m: 'DistilBertForSequenceClassification' object has no attribute 'compile'"
     ]
    }
   ],
   "source": [
    "model = DistilBertForSequenceClassification.from_pretrained(\n",
    "    'distilbert-base-uncased',\n",
    "    num_labels=2\n",
    ")\n",
    "# add learning layers to model\n",
    "\n",
    "optimizer = tf.keras.optimizers.Adam(learning_rate=LEARNING_RATE)\n",
    "model.compile(\n",
    "    optimizer=optimizer,\n",
    "    loss=tf.keras.losses.SparseCategoricalCrossentropy(from_logits=True),\n",
    ")\n"
   ]
  },
  {
   "cell_type": "code",
   "execution_count": null,
   "metadata": {},
   "outputs": [],
   "source": [
    "\n",
    "model.fit(\n",
    "    x=train_dataset,\n",
    "    validation_data=validation_dataset,\n",
    "    batch_size=BATCH_SIZE,\n",
    "    epochs=NUM_EPOCHS,\n",
    ")"
   ]
  },
  {
   "cell_type": "code",
   "execution_count": 7,
   "metadata": {},
   "outputs": [
    {
     "name": "stdout",
     "output_type": "stream",
     "text": [
      "15/15 [==============================] - 81s 5s/step - loss: 0.7294\n"
     ]
    },
    {
     "data": {
      "text/plain": [
       "0.7293604016304016"
      ]
     },
     "execution_count": 7,
     "metadata": {},
     "output_type": "execute_result"
    }
   ],
   "source": [
    "# test model and plot confusion matrix\n",
    "model.evaluate(validation_dataset)"
   ]
  },
  {
   "cell_type": "code",
   "execution_count": 12,
   "metadata": {},
   "outputs": [],
   "source": [
    "#Get predictions\n",
    "predictions = model.predict(validation_dataset)\n",
    "predictions = tf.nn.softmax(predictions[0], axis=1)\n",
    "predictions = tf.argmax(predictions, axis=1)\n",
    "\n"
   ]
  },
  {
   "cell_type": "code",
   "execution_count": 15,
   "metadata": {},
   "outputs": [
    {
     "name": "stdout",
     "output_type": "stream",
     "text": [
      "tf.Tensor(\n",
      "[1 1 0 0 0 0 1 1 1 0 1 0 0 1 0 0 0 1 1 0 1 0 1 0 0 0 0 0 1 0 1 0 0 0 1 1 0\n",
      " 0 1 1 0 0 1 1 0 1 0 1 0 0 1 1 1 1 1 0 1 0 1 1 1 0 1 0 1 0 1 0 1 0 0 0 0 1\n",
      " 0 0 1 1 0 0 0 0 0 1 0 1 0 1 1 1 1 1 1 1 0 1 0 1 1 1 0 0 0 0 1 0 1 1 0 0 0\n",
      " 1 0 1 0 1 1 1 1 0 0 0 1 1 0 0 1 1 1 1 1 1 1 1 1 1 0 0 0 1 0 1 1 1 1 1 1 0\n",
      " 0 1 0 1 0 0 1 1 1 1 1 1 0 0 0 1 1 0 1 0 1 0 0 0 1 1 0 1 0 0 0 1 1 0 0 0 0\n",
      " 1 0 0 0 1 1 1 0 1 1 0 0 0 1 1 1 1 0 1 0 1 1 1 1 0 0 1 1 0 1 1 0 0 0 1 0 0\n",
      " 1 0 0 1 1 0 0 0 1 1 1], shape=(233,), dtype=int64)\n"
     ]
    },
    {
     "data": {
      "image/png": "[encoded data removed]",
      "text/plain": [
       "<Figure size 1000x700 with 2 Axes>"
      ]
     },
     "metadata": {},
     "output_type": "display_data"
    }
   ],
   "source": [
    "# plot confusion matrix\n",
    "from sklearn.metrics import confusion_matrix\n",
    "import seaborn as sns\n",
    "import matplotlib.pyplot as plt\n",
    "def plot_confusion_matrix(y_true, y_pred):\n",
    "    cm = confusion_matrix(y_true, y_pred)\n",
    "    plt.figure(figsize=(10, 7))\n",
    "    sns.heatmap(cm, annot=True, fmt='d')\n",
    "    plt.xlabel('Predicted')\n",
    "    plt.ylabel('Truth')\n",
    "    plt.show()\n",
    "\n",
    "plot_confusion_matrix(validation_label, predictions)\n",
    "\n"
   ]
  },
  {
   "cell_type": "code",
   "execution_count": 24,
   "metadata": {},
   "outputs": [
    {
     "name": "stdout",
     "output_type": "stream",
     "text": [
      "0.7381974248927039\n"
     ]
    }
   ],
   "source": [
    "# show accuracy\n",
    "from sklearn.metrics import accuracy_score\n",
    "print(accuracy_score(validation_label, predictions))\n"
   ]
  },
  {
   "cell_type": "code",
   "execution_count": 81,
   "metadata": {},
   "outputs": [],
   "source": [
    "inputs = dict(tokenizer([\"This is a factual sentence that can be seen in a good light don't you think so, but it seems like they're all unbiased.\",\"YouTube is making clear there will be no “birtherism” on its platform during this year’s U.S. presidential election – a belated response to a type of conspiracy theory more prevalent in the 2012 race.\", \"The increasingly bitter dispute between American women’s national soccer team and the U.S. Soccer Federation spilled onto the field Wednesday night when players wore their warm-up jerseys inside outin a protest before their 3-1 victory over Japan.\",\"A professor who teaches climate change classes — a subject some would question as a legitimate area of study — said she has seen students who suffer fear, grief, stress, and anxiety about the future.\"], padding=True, truncation=True, return_tensors=\"tf\"))"
   ]
  },
  {
   "cell_type": "code",
   "execution_count": 90,
   "metadata": {},
   "outputs": [
    {
     "name": "stdout",
     "output_type": "stream",
     "text": [
      "{'input_ids': <tf.Tensor: shape=(4, 50), dtype=int32, numpy=\n",
      "array([[  101,  2023,  2003,  1037, 25854,  6251,  2008,  2064,  2022,\n",
      "         2464,  1999,  1037,  2204,  2422,  2123,  1005,  1056,  2017,\n",
      "         2228,  2061,  1010,  2021,  2009,  3849,  2066,  2027,  1005,\n",
      "         2128,  2035,  4895, 11607,  6924,  1012,   102,     0,     0,\n",
      "            0,     0,     0,     0,     0,     0,     0,     0,     0,\n",
      "            0,     0,     0,     0,     0],\n",
      "       [  101,  7858,  2003,  2437,  3154,  2045,  2097,  2022,  2053,\n",
      "         1523,  4182, 11124,  6491,  1524,  2006,  2049,  4132,  2076,\n",
      "         2023,  2095,  1521,  1055,  1057,  1012,  1055,  1012,  4883,\n",
      "         2602,  1516,  1037, 20252,  3064,  3433,  2000,  1037,  2828,\n",
      "         1997,  9714,  3399,  2062, 15157,  1999,  1996,  2262,  2679,\n",
      "         1012,   102,     0,     0,     0],\n",
      "       [  101,  1996,  6233,  8618,  7593,  2090,  2137,  2308,  1521,\n",
      "         1055,  2120,  4715,  2136,  1998,  1996,  1057,  1012,  1055,\n",
      "         1012,  4715,  4657, 13439,  3031,  1996,  2492,  9317,  2305,\n",
      "         2043,  2867,  5078,  2037,  4010,  1011,  2039, 28772,  2503,\n",
      "         2041,  2378,  1037,  6186,  2077,  2037,  1017,  1011,  1015,\n",
      "         3377,  2058,  2900,  1012,   102],\n",
      "       [  101,  1037,  2934,  2040, 12011,  4785,  2689,  4280,  1517,\n",
      "         1037,  3395,  2070,  2052,  3160,  2004,  1037, 11476,  2181,\n",
      "         1997,  2817,  1517,  2056,  2016,  2038,  2464,  2493,  2040,\n",
      "         9015,  3571,  1010,  9940,  1010,  6911,  1010,  1998, 10089,\n",
      "         2055,  1996,  2925,  1012,   102,     0,     0,     0,     0,\n",
      "            0,     0,     0,     0,     0]])>, 'attention_mask': <tf.Tensor: shape=(4, 50), dtype=int32, numpy=\n",
      "array([[1, 1, 1, 1, 1, 1, 1, 1, 1, 1, 1, 1, 1, 1, 1, 1, 1, 1, 1, 1, 1, 1,\n",
      "        1, 1, 1, 1, 1, 1, 1, 1, 1, 1, 1, 1, 0, 0, 0, 0, 0, 0, 0, 0, 0, 0,\n",
      "        0, 0, 0, 0, 0, 0],\n",
      "       [1, 1, 1, 1, 1, 1, 1, 1, 1, 1, 1, 1, 1, 1, 1, 1, 1, 1, 1, 1, 1, 1,\n",
      "        1, 1, 1, 1, 1, 1, 1, 1, 1, 1, 1, 1, 1, 1, 1, 1, 1, 1, 1, 1, 1, 1,\n",
      "        1, 1, 1, 0, 0, 0],\n",
      "       [1, 1, 1, 1, 1, 1, 1, 1, 1, 1, 1, 1, 1, 1, 1, 1, 1, 1, 1, 1, 1, 1,\n",
      "        1, 1, 1, 1, 1, 1, 1, 1, 1, 1, 1, 1, 1, 1, 1, 1, 1, 1, 1, 1, 1, 1,\n",
      "        1, 1, 1, 1, 1, 1],\n",
      "       [1, 1, 1, 1, 1, 1, 1, 1, 1, 1, 1, 1, 1, 1, 1, 1, 1, 1, 1, 1, 1, 1,\n",
      "        1, 1, 1, 1, 1, 1, 1, 1, 1, 1, 1, 1, 1, 1, 1, 1, 1, 1, 1, 0, 0, 0,\n",
      "        0, 0, 0, 0, 0, 0]])>}\n"
     ]
    }
   ],
   "source": [
    "print(inputs)"
   ]
  },
  {
   "cell_type": "code",
   "execution_count": 83,
   "metadata": {},
   "outputs": [
    {
     "name": "stdout",
     "output_type": "stream",
     "text": [
      "TFSequenceClassifierOutput(loss=None, logits=array([[-1.4891721,  1.2353058],\n",
      "       [-2.3630428,  2.0507863],\n",
      "       [ 2.066503 , -2.1085992],\n",
      "       [ 2.0238175, -2.0706954]], dtype=float32), hidden_states=None, attentions=None)\n",
      "[[0.06154434 0.93845564]\n",
      " [0.01196386 0.98803616]\n",
      " [0.98485917 0.01514085]\n",
      " [0.9836092  0.01639073]]\n",
      "[1 1 0 0]\n"
     ]
    }
   ],
   "source": [
    "newPrediction = model.predict(inputs)\n",
    "print(newPrediction)\n",
    "#get the highest probability and its index from the prediction\n",
    "newPrediction = tf.nn.softmax(newPrediction[0], axis=1).numpy()\n",
    "print(newPrediction)\n",
    "label = tf.argmax(newPrediction, axis=1).numpy()\n",
    "# print the index with the highest probability from tensor\n",
    "print(label)\n",
    "\n"
   ]
  },
  {
   "cell_type": "code",
   "execution_count": 89,
   "metadata": {},
   "outputs": [],
   "source": [
    "#Save the model to a local folder\n",
    "model.save_pretrained('./model')"
   ]
  },
  {
   "cell_type": "code",
   "execution_count": 86,
   "metadata": {},
   "outputs": [
    {
     "name": "stderr",
     "output_type": "stream",
     "text": [
      "Some layers from the model checkpoint at ./model were not used when initializing TFDistilBertForSequenceClassification: ['dropout_79']\n",
      "- This IS expected if you are initializing TFDistilBertForSequenceClassification from the checkpoint of a model trained on another task or with another architecture (e.g. initializing a BertForSequenceClassification model from a BertForPreTraining model).\n",
      "- This IS NOT expected if you are initializing TFDistilBertForSequenceClassification from the checkpoint of a model that you expect to be exactly identical (initializing a BertForSequenceClassification model from a BertForSequenceClassification model).\n",
      "Some layers of TFDistilBertForSequenceClassification were not initialized from the model checkpoint at ./model and are newly initialized: ['dropout_99']\n",
      "You should probably TRAIN this model on a down-stream task to be able to use it for predictions and inference.\n"
     ]
    }
   ],
   "source": [
    "# Load the model from the local folder for testing purposes\n",
    "modelOpen = TFDistilBertForSequenceClassification.from_pretrained(\"./model\")"
   ]
  },
  {
   "cell_type": "code",
   "execution_count": 88,
   "metadata": {},
   "outputs": [
    {
     "name": "stdout",
     "output_type": "stream",
     "text": [
      "TFSequenceClassifierOutput(loss=None, logits=array([[-1.4891721,  1.2353058],\n",
      "       [-2.3630428,  2.0507863],\n",
      "       [ 2.066503 , -2.1085992],\n",
      "       [ 2.0238175, -2.0706954]], dtype=float32), hidden_states=None, attentions=None)\n",
      "[[0.06154434 0.93845564]\n",
      " [0.01196386 0.98803616]\n",
      " [0.98485917 0.01514085]\n",
      " [0.9836092  0.01639073]]\n",
      "[1 1 0 0]\n"
     ]
    }
   ],
   "source": [
    "#Testing if the loaded model works\n",
    "newPrediction = modelOpen.predict(inputs)\n",
    "newPrediction = tf.nn.softmax(newPrediction[0], axis=1).numpy()\n",
    "print(newPrediction)\n",
    "label = tf.argmax(newPrediction, axis=1).numpy()\n",
    "print(label)"
   ]
  },
  {
   "cell_type": "code",
   "execution_count": 91,
   "metadata": {},
   "outputs": [
    {
     "name": "stdout",
     "output_type": "stream",
     "text": [
      "WARNING:tensorflow:Skipping full serialization of Keras layer <keras.layers.core.dropout.Dropout object at 0x000001D938D01D20>, because it is not built.\n",
      "WARNING:tensorflow:Skipping full serialization of Keras layer <keras.layers.core.dropout.Dropout object at 0x000001D8B79A5300>, because it is not built.\n",
      "WARNING:tensorflow:Skipping full serialization of Keras layer <keras.layers.core.dropout.Dropout object at 0x000001D8B94F63E0>, because it is not built.\n",
      "WARNING:tensorflow:Skipping full serialization of Keras layer <keras.layers.core.dropout.Dropout object at 0x000001D8BAD18CD0>, because it is not built.\n",
      "WARNING:tensorflow:Skipping full serialization of Keras layer <keras.layers.core.dropout.Dropout object at 0x000001D8BAD18DC0>, because it is not built.\n",
      "WARNING:tensorflow:Skipping full serialization of Keras layer <keras.layers.core.dropout.Dropout object at 0x000001D8BAD8CC10>, because it is not built.\n"
     ]
    },
    {
     "name": "stderr",
     "output_type": "stream",
     "text": [
      "WARNING:absl:Found untraced functions such as embeddings_layer_call_fn, embeddings_layer_call_and_return_conditional_losses, transformer_layer_call_fn, transformer_layer_call_and_return_conditional_losses, LayerNorm_layer_call_fn while saving (showing 5 of 164). These functions will not be directly callable after loading.\n"
     ]
    },
    {
     "name": "stdout",
     "output_type": "stream",
     "text": [
      "INFO:tensorflow:Assets written to: ./modelpb\\assets\n"
     ]
    },
    {
     "name": "stderr",
     "output_type": "stream",
     "text": [
      "INFO:tensorflow:Assets written to: ./modelpb\\assets\n"
     ]
    }
   ],
   "source": [
    "model.save('./modelpb', save_format='tf')"
   ]
  },
  {
   "cell_type": "code",
   "execution_count": 114,
   "metadata": {},
   "outputs": [
    {
     "name": "stdout",
     "output_type": "stream",
     "text": [
      "{'logits': array([[-1.4891721,  1.2353058],\n",
      "       [-2.3630428,  2.0507863],\n",
      "       [ 2.066503 , -2.1085992],\n",
      "       [ 2.0238175, -2.0706954]], dtype=float32)}\n",
      "0\n"
     ]
    }
   ],
   "source": [
    "# Load the model from the local folder for testing purposes\n",
    "modelOpen = tf.keras.models.load_model('./bert_model_15-12-22')\n",
    "\n",
    "import numpy as np\n",
    "#Testing if the loaded model works\n",
    "newPrediction = modelOpen.predict(inputs)\n",
    "predictionArray = np.argmax(newPrediction, axis=1)\n",
    "print(newPrediction)\n",
    "print(predictionArray)\n"
   ]
  },
  {
   "cell_type": "code",
   "execution_count": 124,
   "metadata": {},
   "outputs": [
    {
     "name": "stdout",
     "output_type": "stream",
     "text": [
      "{'logits': array([[-1.4891721,  1.2353058],\n",
      "       [-2.3630428,  2.0507863],\n",
      "       [ 2.066503 , -2.1085992],\n",
      "       [ 2.0238175, -2.0706954]], dtype=float32)}\n",
      "[[0.00827894 0.12624098]\n",
      " [0.00345507 0.28533763]\n",
      " [0.28985763 0.00445616]\n",
      " [0.27774528 0.00462831]]\n",
      "[1 1 0 0]\n"
     ]
    }
   ],
   "source": [
    "from scipy.special import softmax\n",
    "print(newPrediction)\n",
    "confidence = softmax(newPrediction['logits'])\n",
    "print(confidence)\n",
    "predictionArray = np.argmax(newPrediction['logits'], axis=1)\n",
    "print(predictionArray)"
   ]
  },
  {
   "cell_type": "code",
   "execution_count": null,
   "metadata": {},
   "outputs": [],
   "source": []
  }
 ],
 "metadata": {
  "kernelspec": {
   "display_name": "Python 3",
   "language": "python",
   "name": "python3"
  },
  "language_info": {
   "codemirror_mode": {
    "name": "ipython",
    "version": 3
   },
   "file_extension": ".py",
   "mimetype": "text/x-python",
   "name": "python",
   "nbconvert_exporter": "python",
   "pygments_lexer": "ipython3",
   "version": "3.10.7"
  },
  "orig_nbformat": 4,
  "vscode": {
   "interpreter": {
    "hash": "b2abd1138ce1c26e3850e921765871411c611b4978bcd07656c7e4d1d85e9831"
   }
  }
 },
 "nbformat": 4,
 "nbformat_minor": 2
}
