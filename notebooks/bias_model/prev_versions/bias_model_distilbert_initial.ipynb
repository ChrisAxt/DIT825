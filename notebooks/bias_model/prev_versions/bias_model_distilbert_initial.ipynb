{
 "cells": [
  {
   "cell_type": "code",
   "execution_count": 2,
   "metadata": {},
   "outputs": [],
   "source": [
    "import pandas as pd\n",
    "import tensorflow as tf\n",
    "from sklearn.model_selection import train_test_split\n",
    "from transformers import (\n",
    "    DistilBertTokenizerFast,\n",
    "    TFDistilBertForSequenceClassification,\n",
    ")\n",
    "\n",
    "MAX_SEQUENCE_LENGTH = 128\n",
    "LEARNING_RATE = 2e-5\n",
    "BATCH_SIZE = 16\n",
    "NUM_EPOCHS = 4"
   ]
  },
  {
   "cell_type": "code",
   "execution_count": 3,
   "metadata": {},
   "outputs": [],
   "source": [
    "tokenizer = DistilBertTokenizerFast.from_pretrained('distilbert-base-uncased')\n",
    "\n",
    "def tokenize(sentences, max_length=MAX_SEQUENCE_LENGTH, padding='max_length'):\n",
    "\n",
    "    return tokenizer(\n",
    "        sentences,\n",
    "        truncation=True,\n",
    "        padding=padding,\n",
    "        max_length=max_length,\n",
    "        return_tensors=\"tf\"\n",
    "    )\n"
   ]
  },
  {
   "cell_type": "code",
   "execution_count": 4,
   "metadata": {},
   "outputs": [
    {
     "name": "stdout",
     "output_type": "stream",
     "text": [
      "1551\n"
     ]
    }
   ],
   "source": [
    "\n",
    "# Load dataset\n",
    "df = pd.read_csv('../dataset/media_bias.csv')\n",
    "\n",
    "# Clean dataset\n",
    "df = df[df.Label_bias != 'No agreement']\n",
    "df = df[df.article != 'NaN']\n",
    "df = df[df.sentence != 'NaN']\n",
    "\n",
    "# Replace label with 0, 1\n",
    "df['Label_bias'] = df['Label_bias'].replace('Biased', 1)\n",
    "df['Label_bias'] = df['Label_bias'].replace('Non-biased', 0)\n",
    "\n",
    "df = df.rename(columns={'Label_bias': 'label'})\n",
    "\n",
    "# Use sentence and label from df\n",
    "df = df[['sentence', 'label']]\n",
    "\n",
    "print(len(df))\n",
    "\n",
    "# Split dataset into train and validation\n",
    "train_data, validation_data, train_label, validation_label = train_test_split(\n",
    "    df['sentence'].tolist(),\n",
    "    df['label'].tolist(),\n",
    "    test_size=.3,\n",
    "    shuffle=True\n",
    ")\n",
    "\n",
    "# Split validation dataset into validation and test\n",
    "validation_data, test_data, validation_label, test_label = train_test_split(\n",
    "    validation_data,\n",
    "    validation_label,\n",
    "    test_size=.5,\n",
    "    shuffle=True\n",
    ")"
   ]
  },
  {
   "cell_type": "code",
   "execution_count": 5,
   "metadata": {},
   "outputs": [],
   "source": [
    "train_dataset = tf.data.Dataset.from_tensor_slices((\n",
    "    dict(tokenize(train_data)),  # Convert BatchEncoding instance to dictionary\n",
    "    train_label\n",
    ")).shuffle(1000).batch(BATCH_SIZE).prefetch(1)\n",
    "validation_dataset = tf.data.Dataset.from_tensor_slices((\n",
    "    dict(tokenize(validation_data)),\n",
    "    validation_label\n",
    ")).batch(BATCH_SIZE).prefetch(1)\n",
    "test_dataset = tf.data.Dataset.from_tensor_slices((\n",
    "    dict(tokenize(test_data)),\n",
    "    test_label\n",
    ")).batch(BATCH_SIZE).prefetch(1)"
   ]
  },
  {
   "cell_type": "code",
   "execution_count": 6,
   "metadata": {},
   "outputs": [
    {
     "name": "stderr",
     "output_type": "stream",
     "text": [
      "Some layers from the model checkpoint at distilbert-base-uncased were not used when initializing TFDistilBertForSequenceClassification: ['activation_13', 'vocab_layer_norm', 'vocab_projector', 'vocab_transform']\n",
      "- This IS expected if you are initializing TFDistilBertForSequenceClassification from the checkpoint of a model trained on another task or with another architecture (e.g. initializing a BertForSequenceClassification model from a BertForPreTraining model).\n",
      "- This IS NOT expected if you are initializing TFDistilBertForSequenceClassification from the checkpoint of a model that you expect to be exactly identical (initializing a BertForSequenceClassification model from a BertForSequenceClassification model).\n",
      "Some layers of TFDistilBertForSequenceClassification were not initialized from the model checkpoint at distilbert-base-uncased and are newly initialized: ['pre_classifier', 'dropout_19', 'classifier']\n",
      "You should probably TRAIN this model on a down-stream task to be able to use it for predictions and inference.\n"
     ]
    }
   ],
   "source": [
    "model = TFDistilBertForSequenceClassification.from_pretrained(\n",
    "    'distilbert-base-uncased',\n",
    "    num_labels=2\n",
    ")\n",
    "\n",
    "optimizer = tf.keras.optimizers.Adam(learning_rate=LEARNING_RATE)\n",
    "model.compile(metrics=['accuracy'],\n",
    "    optimizer=optimizer,\n",
    "    loss=tf.keras.losses.SparseCategoricalCrossentropy(from_logits=True),\n",
    ")"
   ]
  },
  {
   "cell_type": "code",
   "execution_count": 7,
   "metadata": {},
   "outputs": [
    {
     "name": "stdout",
     "output_type": "stream",
     "text": [
      "Epoch 1/4\n",
      "68/68 [==============================] - 257s 4s/step - loss: 0.5636 - accuracy: 0.7041 - val_loss: 0.5871 - val_accuracy: 0.6953\n",
      "Epoch 2/4\n",
      "68/68 [==============================] - 248s 4s/step - loss: 0.3749 - accuracy: 0.8323 - val_loss: 0.4959 - val_accuracy: 0.7425\n",
      "Epoch 3/4\n",
      "68/68 [==============================] - 241s 4s/step - loss: 0.2112 - accuracy: 0.9253 - val_loss: 0.5357 - val_accuracy: 0.7854\n",
      "Epoch 4/4\n",
      "68/68 [==============================] - 241s 4s/step - loss: 0.0918 - accuracy: 0.9724 - val_loss: 0.6714 - val_accuracy: 0.7811\n"
     ]
    },
    {
     "data": {
      "text/plain": [
       "<keras.callbacks.History at 0x1c8aaf77850>"
      ]
     },
     "execution_count": 7,
     "metadata": {},
     "output_type": "execute_result"
    }
   ],
   "source": [
    "model.fit(\n",
    "    x=train_dataset,\n",
    "    validation_data=validation_dataset,\n",
    "    batch_size=BATCH_SIZE,\n",
    "    epochs=NUM_EPOCHS,\n",
    ")"
   ]
  },
  {
   "cell_type": "code",
   "execution_count": 9,
   "metadata": {},
   "outputs": [
    {
     "name": "stdout",
     "output_type": "stream",
     "text": [
      "15/15 [==============================] - 17s 1s/step\n"
     ]
    }
   ],
   "source": [
    "#Get predictions\n",
    "predictions = model.predict(test_dataset)\n",
    "predictions = tf.nn.softmax(predictions[0], axis=1)\n",
    "predictions = tf.argmax(predictions, axis=1) "
   ]
  },
  {
   "cell_type": "code",
   "execution_count": 10,
   "metadata": {},
   "outputs": [
    {
     "data": {
      "image/png": "[encoded data removed]",
      "text/plain": [
       "<Figure size 1000x700 with 2 Axes>"
      ]
     },
     "metadata": {},
     "output_type": "display_data"
    }
   ],
   "source": [
    "# plot confusion matrix\n",
    "from sklearn.metrics import confusion_matrix\n",
    "import seaborn as sns\n",
    "import matplotlib.pyplot as plt\n",
    "def plot_confusion_matrix(y_true, y_pred):\n",
    "    cm = confusion_matrix(y_true, y_pred)\n",
    "    plt.figure(figsize=(10, 7))\n",
    "    sns.heatmap(cm, annot=True, fmt='d')\n",
    "    plt.xlabel('Predicted')\n",
    "    plt.ylabel('Truth')\n",
    "    plt.show()\n",
    "\n",
    "plot_confusion_matrix(test_label, predictions)"
   ]
  },
  {
   "cell_type": "code",
   "execution_count": 11,
   "metadata": {},
   "outputs": [
    {
     "name": "stdout",
     "output_type": "stream",
     "text": [
      "Bert_model with pseudo_labeled_data results:\n",
      "Accuracy: 0.8326180257510729\n",
      "Precision: 0.8930817610062893\n",
      "Recall: 0.8658536585365854\n",
      "F1 Score: 0.8792569659442725\n",
      "ROC AUC Score: 0.8097384234711912\n"
     ]
    }
   ],
   "source": [
    "print('Bert_model with initial data results:')\n",
    "\n",
    "# show accuracy\n",
    "from sklearn.metrics import accuracy_score\n",
    "print(\"Accuracy:\", accuracy_score(test_label, predictions))\n",
    "\n",
    "# show precision\n",
    "from sklearn.metrics import precision_score\n",
    "print(\"Precision:\", precision_score(test_label, predictions))\n",
    "\n",
    "# show recall\n",
    "from sklearn.metrics import recall_score\n",
    "print(\"Recall:\", recall_score(test_label, predictions))\n",
    "\n",
    "# show f1 score\n",
    "from sklearn.metrics import f1_score\n",
    "print(\"F1 Score:\", f1_score(test_label, predictions))\n",
    "\n",
    "# roc auc score\n",
    "from sklearn.metrics import roc_auc_score\n",
    "print(\"ROC AUC Score:\", roc_auc_score(test_label, predictions))\n"
   ]
  },
  {
   "cell_type": "code",
   "execution_count": 8,
   "metadata": {},
   "outputs": [
    {
     "name": "stdout",
     "output_type": "stream",
     "text": [
      "WARNING:tensorflow:Skipping full serialization of Keras layer <keras.layers.regularization.dropout.Dropout object at 0x0000023680258100>, because it is not built.\n",
      "WARNING:tensorflow:Skipping full serialization of Keras layer <keras.layers.regularization.dropout.Dropout object at 0x0000023684BA1480>, because it is not built.\n",
      "WARNING:tensorflow:Skipping full serialization of Keras layer <keras.layers.regularization.dropout.Dropout object at 0x0000023684BA3DC0>, because it is not built.\n",
      "WARNING:tensorflow:Skipping full serialization of Keras layer <keras.layers.regularization.dropout.Dropout object at 0x0000023684BCA740>, because it is not built.\n",
      "WARNING:tensorflow:Skipping full serialization of Keras layer <keras.layers.regularization.dropout.Dropout object at 0x0000023684BD90C0>, because it is not built.\n",
      "WARNING:tensorflow:Skipping full serialization of Keras layer <keras.layers.regularization.dropout.Dropout object at 0x0000023684BDBA00>, because it is not built.\n"
     ]
    },
    {
     "name": "stderr",
     "output_type": "stream",
     "text": [
      "WARNING:absl:Found untraced functions such as embeddings_layer_call_fn, embeddings_layer_call_and_return_conditional_losses, transformer_layer_call_fn, transformer_layer_call_and_return_conditional_losses, LayerNorm_layer_call_fn while saving (showing 5 of 164). These functions will not be directly callable after loading.\n"
     ]
    },
    {
     "name": "stdout",
     "output_type": "stream",
     "text": [
      "INFO:tensorflow:Assets written to: ./model\\assets\n"
     ]
    },
    {
     "name": "stderr",
     "output_type": "stream",
     "text": [
      "INFO:tensorflow:Assets written to: ./model\\assets\n"
     ]
    }
   ],
   "source": [
    "model.save('./model', save_format='tf')"
   ]
  },
  {
   "cell_type": "code",
   "execution_count": 7,
   "metadata": {},
   "outputs": [],
   "source": [
    "inputs = dict(tokenizer([\"This is a factual sentence that can be seen in a good light don't you think so, but it seems like they're all unbiased.\",\"YouTube is making clear there will be no “birtherism” on its platform during this year’s U.S. presidential election – a belated response to a type of conspiracy theory more prevalent in the 2012 race.\", \"The increasingly bitter dispute between American women’s national soccer team and the U.S. Soccer Federation spilled onto the field Wednesday night when players wore their warm-up jerseys inside outin a protest before their 3-1 victory over Japan.\",\"A professor who teaches climate change classes — a subject some would question as a legitimate area of study — said she has seen students who suffer fear, grief, stress, and anxiety about the future.\"], padding=True, truncation=True, return_tensors=\"tf\"))"
   ]
  },
  {
   "cell_type": "code",
   "execution_count": 14,
   "metadata": {},
   "outputs": [
    {
     "name": "stdout",
     "output_type": "stream",
     "text": [
      "{'input_ids': <tf.Tensor: shape=(4, 50), dtype=int32, numpy=\n",
      "array([[  101,  2023,  2003,  1037, 25854,  6251,  2008,  2064,  2022,\n",
      "         2464,  1999,  1037,  2204,  2422,  2123,  1005,  1056,  2017,\n",
      "         2228,  2061,  1010,  2021,  2009,  3849,  2066,  2027,  1005,\n",
      "         2128,  2035,  4895, 11607,  6924,  1012,   102,     0,     0,\n",
      "            0,     0,     0,     0,     0,     0,     0,     0,     0,\n",
      "            0,     0,     0,     0,     0],\n",
      "       [  101,  7858,  2003,  2437,  3154,  2045,  2097,  2022,  2053,\n",
      "         1523,  4182, 11124,  6491,  1524,  2006,  2049,  4132,  2076,\n",
      "         2023,  2095,  1521,  1055,  1057,  1012,  1055,  1012,  4883,\n",
      "         2602,  1516,  1037, 20252,  3064,  3433,  2000,  1037,  2828,\n",
      "         1997,  9714,  3399,  2062, 15157,  1999,  1996,  2262,  2679,\n",
      "         1012,   102,     0,     0,     0],\n",
      "       [  101,  1996,  6233,  8618,  7593,  2090,  2137,  2308,  1521,\n",
      "         1055,  2120,  4715,  2136,  1998,  1996,  1057,  1012,  1055,\n",
      "         1012,  4715,  4657, 13439,  3031,  1996,  2492,  9317,  2305,\n",
      "         2043,  2867,  5078,  2037,  4010,  1011,  2039, 28772,  2503,\n",
      "         2041,  2378,  1037,  6186,  2077,  2037,  1017,  1011,  1015,\n",
      "         3377,  2058,  2900,  1012,   102],\n",
      "       [  101,  1037,  2934,  2040, 12011,  4785,  2689,  4280,  1517,\n",
      "         1037,  3395,  2070,  2052,  3160,  2004,  1037, 11476,  2181,\n",
      "         1997,  2817,  1517,  2056,  2016,  2038,  2464,  2493,  2040,\n",
      "         9015,  3571,  1010,  9940,  1010,  6911,  1010,  1998, 10089,\n",
      "         2055,  1996,  2925,  1012,   102,     0,     0,     0,     0,\n",
      "            0,     0,     0,     0,     0]])>, 'attention_mask': <tf.Tensor: shape=(4, 50), dtype=int32, numpy=\n",
      "array([[1, 1, 1, 1, 1, 1, 1, 1, 1, 1, 1, 1, 1, 1, 1, 1, 1, 1, 1, 1, 1, 1,\n",
      "        1, 1, 1, 1, 1, 1, 1, 1, 1, 1, 1, 1, 0, 0, 0, 0, 0, 0, 0, 0, 0, 0,\n",
      "        0, 0, 0, 0, 0, 0],\n",
      "       [1, 1, 1, 1, 1, 1, 1, 1, 1, 1, 1, 1, 1, 1, 1, 1, 1, 1, 1, 1, 1, 1,\n",
      "        1, 1, 1, 1, 1, 1, 1, 1, 1, 1, 1, 1, 1, 1, 1, 1, 1, 1, 1, 1, 1, 1,\n",
      "        1, 1, 1, 0, 0, 0],\n",
      "       [1, 1, 1, 1, 1, 1, 1, 1, 1, 1, 1, 1, 1, 1, 1, 1, 1, 1, 1, 1, 1, 1,\n",
      "        1, 1, 1, 1, 1, 1, 1, 1, 1, 1, 1, 1, 1, 1, 1, 1, 1, 1, 1, 1, 1, 1,\n",
      "        1, 1, 1, 1, 1, 1],\n",
      "       [1, 1, 1, 1, 1, 1, 1, 1, 1, 1, 1, 1, 1, 1, 1, 1, 1, 1, 1, 1, 1, 1,\n",
      "        1, 1, 1, 1, 1, 1, 1, 1, 1, 1, 1, 1, 1, 1, 1, 1, 1, 1, 1, 0, 0, 0,\n",
      "        0, 0, 0, 0, 0, 0]])>}\n"
     ]
    }
   ],
   "source": [
    "print(inputs)"
   ]
  },
  {
   "cell_type": "code",
   "execution_count": 16,
   "metadata": {},
   "outputs": [
    {
     "name": "stdout",
     "output_type": "stream",
     "text": [
      "1/1 [==============================] - 0s 280ms/step\n",
      "[1 1 0 0]\n"
     ]
    }
   ],
   "source": [
    "# Load the model from the local folder for testing purposes\n",
    "# modelOpen = tf.keras.models.load_model('./model')\n",
    "\n",
    "import numpy as np\n",
    "from scipy.special import softmax\n",
    "#Testing if the loaded model works\n",
    "newPrediction = modelOpen.predict(inputs)\n",
    "mutatedToSoftmax = softmax(newPrediction['logits'])\n",
    "predictionArray = np.argmax(mutatedToSoftmax, axis=1)\n",
    "print(predictionArray)\n"
   ]
  }
 ],
 "metadata": {
  "kernelspec": {
   "display_name": "Python 3",
   "language": "python",
   "name": "python3"
  },
  "language_info": {
   "codemirror_mode": {
    "name": "ipython",
    "version": 3
   },
   "file_extension": ".py",
   "mimetype": "text/x-python",
   "name": "python",
   "nbconvert_exporter": "python",
   "pygments_lexer": "ipython3",
   "version": "3.10.7"
  },
  "orig_nbformat": 4,
  "vscode": {
   "interpreter": {
    "hash": "b2abd1138ce1c26e3850e921765871411c611b4978bcd07656c7e4d1d85e9831"
   }
  }
 },
 "nbformat": 4,
 "nbformat_minor": 2
}
