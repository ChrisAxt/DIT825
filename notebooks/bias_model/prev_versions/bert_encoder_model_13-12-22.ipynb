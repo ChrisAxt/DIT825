{
 "cells": [
  {
   "cell_type": "code",
   "execution_count": 20,
   "metadata": {},
   "outputs": [],
   "source": [
    "import os\n",
    "import tempfile\n",
    "# For N-dimensional array manipulation\n",
    "import numpy as np\n",
    "# Plotting library\n",
    "import matplotlib.pyplot as plt\n",
    "# For data analysis and data structures in DataFrames\n",
    "import pandas as pd\n",
    "# For data visualization\n",
    "import seaborn as sns\n",
    "\n",
    "# For machine learning algorithms and evaluation metrics\n",
    "import sklearn\n",
    "from sklearn.model_selection import train_test_split\n",
    "from sklearn import metrics\n",
    "\n",
    "#import tensorflow\n",
    "import tensorflow as tf\n",
    "from tensorflow import keras\n",
    "from keras import layers"
   ]
  },
  {
   "cell_type": "code",
   "execution_count": 21,
   "metadata": {},
   "outputs": [
    {
     "name": "stdout",
     "output_type": "stream",
     "text": [
      "<bound method NDFrame.head of                                                    text    type      outlet\n",
      "0     YouTube is making clear there will be no birth...  center   usa-today\n",
      "1     The increasingly bitter dispute between Americ...    left       msnbc\n",
      "2     So while there may be a humanitarian crisis dr...    left    alternet\n",
      "3     A professor who teaches climate change classes...   right   breitbart\n",
      "4     Looking around the United States there is neve...   right  federalist\n",
      "...                                                 ...     ...         ...\n",
      "1695  In every case legislators are being swarmed by...    left    alternet\n",
      "1696  Polls show the transgender ideology is deeply ...   right   breitbart\n",
      "1697  Democrats and Republicans stood and applauded ...  center   usa-today\n",
      "1698  As a selfdescribed Democratic socialist Sen Be...   right    fox-news\n",
      "1699  During the segment Colbert also bemoaned the f...   right   breitbart\n",
      "\n",
      "[1551 rows x 3 columns]>\n"
     ]
    }
   ],
   "source": [
    "# Load dataset\n",
    "df = pd.read_csv('./media_bias.csv')\n",
    "\n",
    "# Clean dataset\n",
    "df = df[df.Label_bias != 'No agreement']\n",
    "df = df[df.article != 'NaN']\n",
    "df = df[df.sentence != 'NaN']\n",
    "\n",
    "# Replace label with 0, 1\n",
    "df['Label_bias'] = df['Label_bias'].replace('Biased', 1)\n",
    "df['Label_bias'] = df['Label_bias'].replace('Non-biased', 0)\n",
    "\n",
    "# Only use sentence column and bias column\n",
    "df = df[['sentence', 'Label_bias', 'type', 'outlet']]\n",
    "df = df.rename(columns={'sentence': 'text', 'Label_bias': 'label'})\n",
    "\n",
    "# Remove numbers from all strings in text\n",
    "df['text'] = df['text'].str.replace('\\d+', '', regex=True)\n",
    "\n",
    "# # Remove punctuation from all strings in X\n",
    "df['text'] = df['text'].str.replace('[^\\w\\s]','',regex=True)\n",
    "\n",
    "# Split data into X and y\n",
    "X = df[['text','type', 'outlet']]\n",
    "print(X.head)\n",
    "y = df['label']"
   ]
  },
  {
   "cell_type": "code",
   "execution_count": 22,
   "metadata": {},
   "outputs": [],
   "source": [
    "#Split df into training and testing sets\n",
    "train, test = train_test_split(df, test_size=0.1, random_state=42)"
   ]
  },
  {
   "cell_type": "code",
   "execution_count": 23,
   "metadata": {},
   "outputs": [
    {
     "name": "stdout",
     "output_type": "stream",
     "text": [
      "Note: you may need to restart the kernel to use updated packages.\n"
     ]
    }
   ],
   "source": [
    "%pip install -q transformers\n",
    "\n",
    "from transformers import BertTokenizer\n",
    "tokenizer = BertTokenizer.from_pretrained('bert-base-uncased', do_lower_case=True)\n"
   ]
  },
  {
   "cell_type": "code",
   "execution_count": 24,
   "metadata": {},
   "outputs": [],
   "source": [
    "def convert_example_to_feature(entry, max_length=512):\n",
    "  return tokenizer.encode_plus(entry,\n",
    "                add_special_tokens = True, # add [CLS], [SEP]\n",
    "                max_length = max_length, # max length of the text that can go to BERT\n",
    "                pad_to_max_length = True, # add [PAD] tokens\n",
    "                return_attention_mask = True, # add attention mask to not focus on pad tokens\n",
    "              )"
   ]
  },
  {
   "cell_type": "code",
   "execution_count": 38,
   "metadata": {},
   "outputs": [],
   "source": [
    "batch_size = 16"
   ]
  },
  {
   "cell_type": "code",
   "execution_count": 39,
   "metadata": {},
   "outputs": [],
   "source": [
    "def map_example_to_dict(input_ids, attention_masks, token_type_ids, label):\n",
    "  return {\n",
    "      \"input_ids\": input_ids,\n",
    "      \"token_type_ids\": token_type_ids,\n",
    "      \"attention_mask\": attention_masks,\n",
    "  }, label"
   ]
  },
  {
   "cell_type": "code",
   "execution_count": 40,
   "metadata": {},
   "outputs": [],
   "source": [
    "def encode_entries(ds, limit=-1):\n",
    "  # prepare list, so that we can build up final TensorFlow dataset from slices.\n",
    "  input_ids_list = []\n",
    "  token_type_ids_list = []\n",
    "  attention_mask_list = []\n",
    "  label_list = []\n",
    "  if (limit > 0):\n",
    "      ds = ds.take(limit)\n",
    "  print(ds)\n",
    "  for text, label, type, outlet in ds.to_numpy():\n",
    "    bert_input = convert_example_to_feature(text)\n",
    "    input_ids_list.append(bert_input['input_ids'])\n",
    "    token_type_ids_list.append(bert_input['token_type_ids'])\n",
    "    attention_mask_list.append(bert_input['attention_mask'])\n",
    "    label_list.append([label])\n",
    "  return tf.data.Dataset.from_tensor_slices((input_ids_list, attention_mask_list, token_type_ids_list, label_list)).map(map_example_to_dict)"
   ]
  },
  {
   "cell_type": "code",
   "execution_count": 41,
   "metadata": {},
   "outputs": [
    {
     "name": "stdout",
     "output_type": "stream",
     "text": [
      "                                                   text  label    type  \\\n",
      "1274  Warrens speech included leftist talking points...      1   right   \n",
      "1072  He justified his racism by saying that many pe...      1    left   \n",
      "599   This is how Warren has pushed the boundaries o...      1    left   \n",
      "1220  They found that many disadvantaged white stude...      1   right   \n",
      "1378  Trump appeared to be referring to Northams sig...      0  center   \n",
      "...                                                 ...    ...     ...   \n",
      "1253  He even wants a son to get a background check ...      0   right   \n",
      "1428  South Bend Mayor Pete Buttigieg a Democratic c...      1    left   \n",
      "949   Hundreds of white nationalists lined the stree...      0    left   \n",
      "1601  However there is evidence suggesting that havi...      1    left   \n",
      "1249  It may have taken Trump to point out the pitfa...      1    left   \n",
      "\n",
      "          outlet  \n",
      "1274   breitbart  \n",
      "1072    alternet  \n",
      "599     huffpost  \n",
      "1220  federalist  \n",
      "1378   usa-today  \n",
      "...          ...  \n",
      "1253   breitbart  \n",
      "1428    alternet  \n",
      "949        msnbc  \n",
      "1601    huffpost  \n",
      "1249    alternet  \n",
      "\n",
      "[1395 rows x 4 columns]\n"
     ]
    },
    {
     "name": "stderr",
     "output_type": "stream",
     "text": [
      "c:\\Users\\verni\\AppData\\Local\\Programs\\Python\\Python310\\lib\\site-packages\\transformers\\tokenization_utils_base.py:2336: FutureWarning: The `pad_to_max_length` argument is deprecated and will be removed in a future version, use `padding=True` or `padding='longest'` to pad to the longest sequence in the batch, or use `padding='max_length'` to pad to a max length. In this case, you can give a specific length with `max_length` (e.g. `max_length=45`) or leave max_length to None to pad to the maximal input size of the model (e.g. 512 for Bert).\n",
      "  warnings.warn(\n"
     ]
    },
    {
     "name": "stdout",
     "output_type": "stream",
     "text": [
      "                                                   text  label    type  \\\n",
      "1666  Spencer speculated that the media may be soull...      1    left   \n",
      "683   Officials at Dartmouth College looked the othe...      1   right   \n",
      "385   As the worlds scientists and pharmaceutical co...      1  center   \n",
      "386   Though it was Major League Baseball that he me...      1    left   \n",
      "561   The fact that the abortion rate among American...      1   right   \n",
      "...                                                 ...    ...     ...   \n",
      "1173  Two Democrats  state Sens Creigh Deeds and Cha...      0   right   \n",
      "526   The government of the secretive central Asian ...      1   right   \n",
      "1284  The Labour politician who has presided over an...      0   right   \n",
      "46    Abortion propaganda was always meant to obscur...      1   right   \n",
      "1033  And yes theres something in the Fox News DNA o...      1    left   \n",
      "\n",
      "          outlet  \n",
      "1666       msnbc  \n",
      "683    breitbart  \n",
      "385      reuters  \n",
      "386     alternet  \n",
      "561   federalist  \n",
      "...          ...  \n",
      "1173  federalist  \n",
      "526    breitbart  \n",
      "1284   breitbart  \n",
      "46    federalist  \n",
      "1033    alternet  \n",
      "\n",
      "[156 rows x 4 columns]\n"
     ]
    },
    {
     "name": "stderr",
     "output_type": "stream",
     "text": [
      "c:\\Users\\verni\\AppData\\Local\\Programs\\Python\\Python310\\lib\\site-packages\\transformers\\tokenization_utils_base.py:2336: FutureWarning: The `pad_to_max_length` argument is deprecated and will be removed in a future version, use `padding=True` or `padding='longest'` to pad to the longest sequence in the batch, or use `padding='max_length'` to pad to a max length. In this case, you can give a specific length with `max_length` (e.g. `max_length=45`) or leave max_length to None to pad to the maximal input size of the model (e.g. 512 for Bert).\n",
      "  warnings.warn(\n"
     ]
    }
   ],
   "source": [
    "# train dataset\n",
    "training_encoded = encode_entries(train).shuffle(100).batch(batch_size)\n",
    "# test dataset\n",
    "testing_encoded = encode_entries(test).batch(batch_size)"
   ]
  },
  {
   "cell_type": "code",
   "execution_count": 42,
   "metadata": {},
   "outputs": [
    {
     "name": "stderr",
     "output_type": "stream",
     "text": [
      "All model checkpoint layers were used when initializing TFBertForSequenceClassification.\n",
      "\n",
      "Some layers of TFBertForSequenceClassification were not initialized from the model checkpoint at bert-base-uncased and are newly initialized: ['classifier']\n",
      "You should probably TRAIN this model on a down-stream task to be able to use it for predictions and inference.\n"
     ]
    }
   ],
   "source": [
    "from transformers import TFBertForSequenceClassification\n",
    "learning_rate = 2e-5\n",
    "number_of_epochs = 3\n",
    "bert_tokenizer = BertTokenizer.from_pretrained(\"bert-base-uncased\")\n",
    "model = TFBertForSequenceClassification.from_pretrained('bert-base-uncased', num_labels=2)\n",
    "\n",
    "#Add layers to model for fine tuning BERT for classification\n",
    "# model = tf.keras.Sequential([\n",
    "#     model,\n",
    "#     tf.keras.layers.Dense(64, activation='relu'),\n",
    "#     tf.keras.layers.Dense(1, activation='sigmoid')\n",
    "# ])\n"
   ]
  },
  {
   "cell_type": "code",
   "execution_count": 43,
   "metadata": {},
   "outputs": [
    {
     "name": "stdout",
     "output_type": "stream",
     "text": [
      "Model: \"tf_bert_for_sequence_classification_3\"\n",
      "_________________________________________________________________\n",
      " Layer (type)                Output Shape              Param #   \n",
      "=================================================================\n",
      " bert (TFBertMainLayer)      multiple                  109482240 \n",
      "                                                                 \n",
      " dropout_151 (Dropout)       multiple                  0         \n",
      "                                                                 \n",
      " classifier (Dense)          multiple                  1538      \n",
      "                                                                 \n",
      "=================================================================\n",
      "Total params: 109,483,778\n",
      "Trainable params: 109,483,778\n",
      "Non-trainable params: 0\n",
      "_________________________________________________________________\n"
     ]
    }
   ],
   "source": [
    "# choosing Adam optimizer\n",
    "optimizer = tf.keras.optimizers.Adam(learning_rate=learning_rate, epsilon=1e-08)\n",
    "# we do not have one-hot vectors, we can use sparce categorical cross entropy and accuracy\n",
    "loss = tf.keras.losses.SparseCategoricalCrossentropy(from_logits=True)\n",
    "metric = tf.keras.metrics.SparseCategoricalAccuracy('accuracy')\n",
    "model.compile(optimizer=optimizer, loss=loss, metrics=[metric])\n",
    "model.summary()\n"
   ]
  },
  {
   "cell_type": "code",
   "execution_count": 44,
   "metadata": {},
   "outputs": [
    {
     "name": "stdout",
     "output_type": "stream",
     "text": [
      "Epoch 1/3\n",
      " 9/88 [==>...........................] - ETA: 1:19:56 - loss: 0.6453 - accuracy: 0.6597"
     ]
    }
   ],
   "source": [
    "bert_history = model.fit(training_encoded, epochs=number_of_epochs, validation_data=testing_encoded)"
   ]
  },
  {
   "cell_type": "code",
   "execution_count": 13,
   "metadata": {},
   "outputs": [
    {
     "name": "stdout",
     "output_type": "stream",
     "text": [
      "52/52 [==============================] - 216s 4s/step - loss: 0.4978 - accuracy: 0.7814\n",
      "Test Loss: 0.497801274061203\n",
      "Test Accuracy: 0.7813504934310913\n"
     ]
    }
   ],
   "source": [
    "# Test the model\n",
    "test_loss, test_acc = model.evaluate(testing_encoded)\n",
    "print('Test Loss: {}'.format(test_loss))\n",
    "print('Test Accuracy: {}'.format(test_acc))"
   ]
  },
  {
   "cell_type": "code",
   "execution_count": 101,
   "metadata": {},
   "outputs": [
    {
     "name": "stdout",
     "output_type": "stream",
     "text": [
      "tf.Tensor([[0.11597355 0.34613058]], shape=(1, 2), dtype=float32)\n",
      "1\n"
     ]
    }
   ],
   "source": [
    "inputs = tokenizer(\"This is a fact which is better than fiction\", return_tensors=\"tf\")\n",
    "\n",
    "logits = model(**inputs).logits\n",
    "\n",
    "print(logits)\n",
    "predicted_class_id = int(tf.math.argmax(logits, axis=-1)[0])\n",
    "print(predicted_class_id)"
   ]
  },
  {
   "cell_type": "code",
   "execution_count": 59,
   "metadata": {},
   "outputs": [],
   "source": [
    "tf.config.run_functions_eagerly(True)"
   ]
  },
  {
   "cell_type": "code",
   "execution_count": 84,
   "metadata": {},
   "outputs": [
    {
     "name": "stdout",
     "output_type": "stream",
     "text": [
      "52/52 [==============================] - 256s 5s/step\n"
     ]
    }
   ],
   "source": [
    "# Show heatmap of test data\n",
    "import seaborn as sns\n",
    "import matplotlib.pyplot as plt\n",
    "from sklearn.metrics import confusion_matrix\n",
    "\n",
    "def plot_confusion_matrix(y_true, y_pred, classes, normalize=False, title=None, cmap=plt.cm.Blues):\n",
    "    if not title:\n",
    "        if normalize:\n",
    "            title = 'Normalized confusion matrix'\n",
    "        else:\n",
    "            title = 'Confusion matrix, without normalization'\n",
    "    cm = confusion_matrix(y_true, y_pred)\n",
    "    if normalize:\n",
    "        cm = cm.astype('float') / cm.sum(axis=1)[:, np.newaxis]\n",
    "    fig, ax = plt.subplots()\n",
    "    im = ax.imshow(cm, interpolation='nearest', cmap=cmap)\n",
    "    ax.figure.colorbar(im, ax=ax)\n",
    "    ax.set(xticks=np.arange(cm.shape[1]),\n",
    "           yticks=np.arange(cm.shape[0]),\n",
    "           xticklabels=classes, yticklabels=classes,\n",
    "           title=title,\n",
    "           ylabel='True label',\n",
    "           xlabel='Predicted label')\n",
    "    plt.setp(ax.get_xticklabels(), rotation=45, ha=\"right\",\n",
    "             rotation_mode=\"anchor\")\n",
    "    fmt = '.2f' if normalize else 'd'\n",
    "    thresh = cm.max() / 2.\n",
    "    for i in range(cm.shape[0]):\n",
    "        for j in range(cm.shape[1]):\n",
    "            ax.text(j, i, format(cm[i, j], fmt),\n",
    "                    ha=\"center\", va=\"center\",\n",
    "                    color=\"white\" if cm[i, j] > thresh else \"black\")\n",
    "    fig.tight_layout()\n",
    "    return ax\n",
    "\n",
    "y_pred = model.predict(testing_encoded)"
   ]
  },
  {
   "cell_type": "code",
   "execution_count": 100,
   "metadata": {},
   "outputs": [
    {
     "name": "stdout",
     "output_type": "stream",
     "text": [
      "TFSequenceClassifierOutput(loss=None, logits=array([[0.2621841 , 0.3345329 ],\n",
      "       [0.36097503, 0.33989993],\n",
      "       [0.3079635 , 0.32566267],\n",
      "       [0.2749032 , 0.29687908],\n",
      "       [0.32643008, 0.2706525 ],\n",
      "       [0.19728915, 0.28907388],\n",
      "       [0.23566322, 0.25392088],\n",
      "       [0.34717909, 0.28714693],\n",
      "       [0.22256082, 0.3077171 ],\n",
      "       [0.39117917, 0.1147105 ],\n",
      "       [0.4708222 , 0.26538128],\n",
      "       [0.32113147, 0.30149934],\n",
      "       [0.34965557, 0.21689668],\n",
      "       [0.3226074 , 0.27152953],\n",
      "       [0.2737127 , 0.27840298],\n",
      "       [0.4043406 , 0.25710952],\n",
      "       [0.37805668, 0.18697849],\n",
      "       [0.35098964, 0.18351164],\n",
      "       [0.40169805, 0.38554335],\n",
      "       [0.34833562, 0.21514097],\n",
      "       [0.33065322, 0.27803507],\n",
      "       [0.38799366, 0.40345043],\n",
      "       [0.31802678, 0.22712913],\n",
      "       [0.35332343, 0.2715444 ],\n",
      "       [0.40313125, 0.21176654],\n",
      "       [0.34190196, 0.35529914],\n",
      "       [0.37850195, 0.06409124],\n",
      "       [0.37653607, 0.24923772],\n",
      "       [0.3378402 , 0.21933296],\n",
      "       [0.2687533 , 0.29879624],\n",
      "       [0.29671958, 0.21494615],\n",
      "       [0.23111995, 0.29252058],\n",
      "       [0.31126636, 0.33862603],\n",
      "       [0.28238502, 0.23453946],\n",
      "       [0.3210422 , 0.28772333],\n",
      "       [0.2960739 , 0.4001851 ],\n",
      "       [0.27077705, 0.37361842],\n",
      "       [0.2563693 , 0.2230067 ],\n",
      "       [0.36674023, 0.34764418],\n",
      "       [0.33580235, 0.31637767],\n",
      "       [0.3484679 , 0.2295193 ],\n",
      "       [0.3068434 , 0.29812008],\n",
      "       [0.39308533, 0.27864736],\n",
      "       [0.43862718, 0.29027897],\n",
      "       [0.32642817, 0.369065  ],\n",
      "       [0.359032  , 0.28287   ],\n",
      "       [0.3595237 , 0.27584764],\n",
      "       [0.36343563, 0.23768732],\n",
      "       [0.3656463 , 0.23480779],\n",
      "       [0.35258824, 0.3005862 ],\n",
      "       [0.3484342 , 0.23100744],\n",
      "       [0.27353305, 0.2768895 ],\n",
      "       [0.5297916 , 0.1883282 ],\n",
      "       [0.23893386, 0.26525688],\n",
      "       [0.38291416, 0.31315333],\n",
      "       [0.30937925, 0.33060354],\n",
      "       [0.25237936, 0.2918138 ],\n",
      "       [0.36065215, 0.15237242],\n",
      "       [0.3590647 , 0.2978742 ],\n",
      "       [0.2945929 , 0.4970199 ],\n",
      "       [0.40286657, 0.28626415],\n",
      "       [0.30137306, 0.24669066],\n",
      "       [0.22615299, 0.37901294],\n",
      "       [0.41846588, 0.28579706],\n",
      "       [0.3363711 , 0.25815517],\n",
      "       [0.25896096, 0.06874171],\n",
      "       [0.34581187, 0.28106156],\n",
      "       [0.28200373, 0.22037342],\n",
      "       [0.32374343, 0.45104906],\n",
      "       [0.34165657, 0.2698418 ],\n",
      "       [0.2870731 , 0.23143166],\n",
      "       [0.14662626, 0.29536504],\n",
      "       [0.25127974, 0.3108296 ],\n",
      "       [0.33812335, 0.3297807 ],\n",
      "       [0.20887728, 0.2998308 ],\n",
      "       [0.23943138, 0.27351356],\n",
      "       [0.46761942, 0.23614527],\n",
      "       [0.39599544, 0.2608066 ],\n",
      "       [0.34092784, 0.1641443 ],\n",
      "       [0.31394452, 0.3002371 ],\n",
      "       [0.37442112, 0.2141926 ],\n",
      "       [0.38252383, 0.35922447],\n",
      "       [0.36168242, 0.31145912],\n",
      "       [0.27721784, 0.23854215],\n",
      "       [0.41725507, 0.29824144],\n",
      "       [0.31489372, 0.37280142],\n",
      "       [0.33517963, 0.23129088],\n",
      "       [0.2739364 , 0.33380875],\n",
      "       [0.39009556, 0.2059188 ],\n",
      "       [0.33274555, 0.2637418 ],\n",
      "       [0.2215007 , 0.19102769],\n",
      "       [0.30968133, 0.3199724 ],\n",
      "       [0.2784788 , 0.28224236],\n",
      "       [0.29358968, 0.28959876],\n",
      "       [0.2763446 , 0.18021408],\n",
      "       [0.38175994, 0.24072433],\n",
      "       [0.34778893, 0.27139473],\n",
      "       [0.3059057 , 0.35143358],\n",
      "       [0.3962384 , 0.3770624 ],\n",
      "       [0.3378061 , 0.30436444],\n",
      "       [0.33661667, 0.23519656],\n",
      "       [0.4449997 , 0.23026188],\n",
      "       [0.41966125, 0.25855398],\n",
      "       [0.30430478, 0.27840084],\n",
      "       [0.3477808 , 0.2994879 ],\n",
      "       [0.1434974 , 0.35153523],\n",
      "       [0.28017554, 0.23091659],\n",
      "       [0.3545378 , 0.3376819 ],\n",
      "       [0.34282988, 0.2551306 ],\n",
      "       [0.30435598, 0.2376644 ],\n",
      "       [0.37831408, 0.22241393],\n",
      "       [0.26270905, 0.24671845],\n",
      "       [0.33211395, 0.2114143 ],\n",
      "       [0.3915861 , 0.34981343],\n",
      "       [0.22892302, 0.25091913],\n",
      "       [0.35481733, 0.2881769 ],\n",
      "       [0.2750219 , 0.26008564],\n",
      "       [0.35532498, 0.28913477],\n",
      "       [0.27591604, 0.31759626],\n",
      "       [0.20290817, 0.19850612],\n",
      "       [0.18083605, 0.22178294],\n",
      "       [0.3118878 , 0.20323583],\n",
      "       [0.33629796, 0.24122626],\n",
      "       [0.27457693, 0.31571084],\n",
      "       [0.31250864, 0.22094068],\n",
      "       [0.3551112 , 0.27409282],\n",
      "       [0.42460626, 0.38283473],\n",
      "       [0.32163706, 0.2596462 ],\n",
      "       [0.36617234, 0.2487067 ],\n",
      "       [0.3607922 , 0.30130702],\n",
      "       [0.28318244, 0.29694846],\n",
      "       [0.3688567 , 0.18482025],\n",
      "       [0.30815566, 0.22354841],\n",
      "       [0.34467387, 0.29477304],\n",
      "       [0.3955817 , 0.1886214 ],\n",
      "       [0.14044473, 0.30183744],\n",
      "       [0.28045538, 0.3114337 ],\n",
      "       [0.16389498, 0.25032634],\n",
      "       [0.2907383 , 0.2595429 ],\n",
      "       [0.25890127, 0.3281537 ],\n",
      "       [0.33310413, 0.31449825],\n",
      "       [0.28355467, 0.29899284],\n",
      "       [0.2827763 , 0.31755573],\n",
      "       [0.40064448, 0.16342963],\n",
      "       [0.28161263, 0.3360712 ],\n",
      "       [0.17032702, 0.30345774],\n",
      "       [0.33082342, 0.25945613],\n",
      "       [0.39193723, 0.37700486],\n",
      "       [0.3145745 , 0.29723105],\n",
      "       [0.2910928 , 0.18766382],\n",
      "       [0.31470424, 0.2607437 ],\n",
      "       [0.30552307, 0.18930009],\n",
      "       [0.24692242, 0.20676823],\n",
      "       [0.30401665, 0.3329238 ],\n",
      "       [0.3624841 , 0.26734203],\n",
      "       [0.31488657, 0.2574306 ],\n",
      "       [0.3238186 , 0.22181845],\n",
      "       [0.41273078, 0.32599014],\n",
      "       [0.23092988, 0.26531973],\n",
      "       [0.2844746 , 0.25310978],\n",
      "       [0.30753267, 0.34824967],\n",
      "       [0.3014817 , 0.33042192],\n",
      "       [0.39706078, 0.35219717],\n",
      "       [0.25562257, 0.29558977],\n",
      "       [0.22024733, 0.29597124],\n",
      "       [0.16510665, 0.25733602],\n",
      "       [0.33145687, 0.316916  ],\n",
      "       [0.35641488, 0.2696789 ],\n",
      "       [0.36067116, 0.2907579 ],\n",
      "       [0.26045334, 0.35380226],\n",
      "       [0.32096815, 0.2229805 ],\n",
      "       [0.35954347, 0.3052463 ],\n",
      "       [0.3006608 , 0.1939567 ],\n",
      "       [0.38450748, 0.3257994 ],\n",
      "       [0.4045446 , 0.27847245],\n",
      "       [0.3080827 , 0.23824053],\n",
      "       [0.3317032 , 0.27635565],\n",
      "       [0.34721866, 0.28547058],\n",
      "       [0.3696402 , 0.2916463 ],\n",
      "       [0.31549686, 0.15427232],\n",
      "       [0.21113837, 0.3585283 ],\n",
      "       [0.35126913, 0.07122494],\n",
      "       [0.34347126, 0.23410782],\n",
      "       [0.2040366 , 0.365935  ],\n",
      "       [0.33238256, 0.2175559 ],\n",
      "       [0.4348667 , 0.31051502],\n",
      "       [0.33126473, 0.21724279],\n",
      "       [0.32179654, 0.28775477],\n",
      "       [0.3416345 , 0.28859898],\n",
      "       [0.17319843, 0.25490183],\n",
      "       [0.31521097, 0.33747035],\n",
      "       [0.40466213, 0.18460941],\n",
      "       [0.23426276, 0.2601689 ],\n",
      "       [0.31403005, 0.29035336],\n",
      "       [0.24139413, 0.24338266],\n",
      "       [0.37435627, 0.2796945 ],\n",
      "       [0.31811807, 0.18624891],\n",
      "       [0.36023366, 0.25276506],\n",
      "       [0.30892912, 0.234558  ],\n",
      "       [0.26930285, 0.30701107],\n",
      "       [0.17747808, 0.24826488],\n",
      "       [0.3645631 , 0.28336197],\n",
      "       [0.3532006 , 0.24430904],\n",
      "       [0.36944732, 0.3065501 ],\n",
      "       [0.33045524, 0.05689496],\n",
      "       [0.21361239, 0.23433548],\n",
      "       [0.36975858, 0.20627442],\n",
      "       [0.3841793 , 0.20976827],\n",
      "       [0.31047493, 0.3755418 ],\n",
      "       [0.38278407, 0.3668108 ],\n",
      "       [0.29574716, 0.3090917 ],\n",
      "       [0.28095353, 0.3161181 ],\n",
      "       [0.1791254 , 0.21890448],\n",
      "       [0.33129787, 0.04186171],\n",
      "       [0.29510704, 0.3423524 ],\n",
      "       [0.2700841 , 0.2894627 ],\n",
      "       [0.2894612 , 0.24388993],\n",
      "       [0.38550603, 0.29877836],\n",
      "       [0.367967  , 0.27982605],\n",
      "       [0.31510258, 0.16667448],\n",
      "       [0.3290845 , 0.2595682 ],\n",
      "       [0.2692406 , 0.27822548],\n",
      "       [0.40821114, 0.20602809],\n",
      "       [0.40464967, 0.18201946],\n",
      "       [0.34454778, 0.30592108],\n",
      "       [0.34623635, 0.15286297],\n",
      "       [0.27461419, 0.19069397],\n",
      "       [0.33660844, 0.33406913],\n",
      "       [0.16849665, 0.38032916],\n",
      "       [0.29222703, 0.20460156],\n",
      "       [0.26889527, 0.30328724],\n",
      "       [0.33403167, 0.3522849 ],\n",
      "       [0.2985065 , 0.23414618],\n",
      "       [0.4532985 , 0.2232286 ],\n",
      "       [0.3688435 , 0.3119698 ],\n",
      "       [0.21366945, 0.25327256],\n",
      "       [0.33076817, 0.27562806],\n",
      "       [0.24709111, 0.28589195],\n",
      "       [0.25327194, 0.2985098 ],\n",
      "       [0.30046907, 0.2046297 ],\n",
      "       [0.30979744, 0.31925982],\n",
      "       [0.3064462 , 0.31307408],\n",
      "       [0.32334074, 0.19916618],\n",
      "       [0.3895378 , 0.15336624],\n",
      "       [0.30148757, 0.2241803 ],\n",
      "       [0.25431186, 0.3446825 ],\n",
      "       [0.299312  , 0.3532206 ],\n",
      "       [0.2008554 , 0.23663682],\n",
      "       [0.35965103, 0.25176707],\n",
      "       [0.3415879 , 0.25254136],\n",
      "       [0.41546065, 0.2639808 ],\n",
      "       [0.37227553, 0.32715932],\n",
      "       [0.35262161, 0.20674899],\n",
      "       [0.3128807 , 0.26619107],\n",
      "       [0.28405297, 0.26116794],\n",
      "       [0.34378558, 0.30282372],\n",
      "       [0.3242408 , 0.32370263],\n",
      "       [0.3281366 , 0.2453821 ],\n",
      "       [0.45139533, 0.23922983],\n",
      "       [0.41499892, 0.32605767],\n",
      "       [0.3214238 , 0.3132929 ],\n",
      "       [0.3857199 , 0.24625933],\n",
      "       [0.39048636, 0.32586503],\n",
      "       [0.3360903 , 0.13403258],\n",
      "       [0.36859065, 0.04949188],\n",
      "       [0.37651467, 0.3455882 ],\n",
      "       [0.25052541, 0.26047987],\n",
      "       [0.3459228 , 0.19812304],\n",
      "       [0.30113316, 0.28404635],\n",
      "       [0.28521228, 0.33967862],\n",
      "       [0.33500963, 0.32675087],\n",
      "       [0.364557  , 0.31914377],\n",
      "       [0.27254626, 0.22727126],\n",
      "       [0.19985211, 0.30093873],\n",
      "       [0.3867546 , 0.27978712],\n",
      "       [0.3921068 , 0.18985566],\n",
      "       [0.15728542, 0.3021497 ],\n",
      "       [0.40850967, 0.21706367],\n",
      "       [0.34335685, 0.27935383],\n",
      "       [0.32023397, 0.2776328 ],\n",
      "       [0.347121  , 0.21193612],\n",
      "       [0.18688065, 0.29168388],\n",
      "       [0.14255548, 0.3150972 ],\n",
      "       [0.30381316, 0.03597978],\n",
      "       [0.35017645, 0.16738497],\n",
      "       [0.35989252, 0.32640073],\n",
      "       [0.4067592 , 0.30846602],\n",
      "       [0.24969229, 0.32979524],\n",
      "       [0.24646075, 0.2933085 ],\n",
      "       [0.29630116, 0.2159353 ],\n",
      "       [0.45943865, 0.2501763 ],\n",
      "       [0.39837533, 0.33759308],\n",
      "       [0.23710838, 0.26257735],\n",
      "       [0.33486333, 0.2691954 ],\n",
      "       [0.35291424, 0.25709197],\n",
      "       [0.42517227, 0.28184378],\n",
      "       [0.3582206 , 0.32362878],\n",
      "       [0.20556828, 0.31893265],\n",
      "       [0.20561704, 0.2883057 ],\n",
      "       [0.19868813, 0.33246642],\n",
      "       [0.27394196, 0.26610434],\n",
      "       [0.401621  , 0.2779763 ],\n",
      "       [0.29489827, 0.3082648 ],\n",
      "       [0.2716277 , 0.37791035],\n",
      "       [0.42320073, 0.2453065 ],\n",
      "       [0.39486718, 0.20484027],\n",
      "       [0.33487046, 0.10018054],\n",
      "       [0.38044012, 0.282629  ],\n",
      "       [0.3802754 , 0.17344934],\n",
      "       [0.2789811 , 0.34387422],\n",
      "       [0.40567464, 0.1528263 ]], dtype=float32), hidden_states=None, attentions=None)\n",
      "[1 0 1 1 0 1 1 0 1 0 0 0 0 0 1 0 0 0 0 0 0 1 0 0 0 1 0 0 0 1 0 1 1 0 0 1 1\n",
      " 0 0 0 0 0 0 0 1 0 0 0 0 0 0 1 0 1 0 1 1 0 0 1 0 0 1 0 0 0 0 0 1 0 0 1 1 0\n",
      " 1 1 0 0 0 0 0 0 0 0 0 1 0 1 0 0 0 1 1 0 0 0 0 1 0 0 0 0 0 0 0 1 0 0 0 0 0\n",
      " 0 0 0 1 0 0 0 1 0 1 0 0 1 0 0 0 0 0 0 1 0 0 0 0 1 1 1 0 1 0 1 1 0 1 1 0 0\n",
      " 0 0 0 0 0 1 0 0 0 0 1 0 1 1 0 1 1 1 0 0 0 1 0 0 0 0 0 0 0 0 0 0 1 0 0 1 0\n",
      " 0 0 0 0 1 1 0 1 0 1 0 0 0 0 1 1 0 0 0 0 1 0 0 1 0 1 1 1 0 1 1 0 0 0 0 0 1\n",
      " 0 0 0 0 0 0 1 0 1 1 0 0 0 1 0 1 1 0 1 1 0 0 0 1 1 1 0 0 0 0 0 0 0 0 0 0 0\n",
      " 0 0 0 0 0 0 0 1 0 0 1 0 0 0 1 0 0 1 0 0 0 0 1 1 0 0 0 0 1 1 0 0 0 1 0 0 0\n",
      " 0 1 1 1 0 0 1 1 0 0 0 0 0 1 0]\n"
     ]
    },
    {
     "data": {
      "image/png": "[encoded data removed]",
      "text/plain": [
       "<Figure size 640x480 with 2 Axes>"
      ]
     },
     "metadata": {},
     "output_type": "display_data"
    }
   ],
   "source": [
    "print(y_pred)\n",
    "y_pred_bool = np.argmax(y_pred[0], axis=1)\n",
    "print(y_pred_bool)\n",
    "plot_confusion_matrix(test['label'], y_pred_bool, classes=['0', '1'], normalize=True, title='Normalized confusion matrix')\n",
    "plt.show()\n"
   ]
  },
  {
   "cell_type": "code",
   "execution_count": 121,
   "metadata": {},
   "outputs": [
    {
     "name": "stdout",
     "output_type": "stream",
     "text": [
      "['YouTube is making clear there will be no “birtherism” on its platform during this year’s U.S. presidential election – a belated response to a type of conspiracy theory more prevalent in the 2012 race.']\n",
      "1/1 [==============================] - 0s 232ms/step\n",
      "[0.1783105 0.2375525]\n",
      "1\n"
     ]
    }
   ],
   "source": [
    "# Create keras prediction function\n",
    "tf.data.experimental.enable_debug_mode()\n",
    "# predictionInput = pd.DataFrame([\"The president is a big fat liar.\", \"This a is a factual bit of text.\"], columns=['sentence'])\n",
    "predictionInput = [\"YouTube is making clear there will be no “birtherism” on its platform during this year’s U.S. presidential election – a belated response to a type of conspiracy theory more prevalent in the 2012 race.\"]\n",
    "print(predictionInput)\n",
    "MAX_LEN = 10\n",
    "classes = ['non-biased', 'biased']\n",
    "\n",
    "def keras_predict(model, tokenizer, sentence):\n",
    "    encoded_sentence = tokenizer.encode_plus(sentence, add_special_tokens=True, max_length=512, padding=False, return_attention_mask=True, return_tensors='tf')\n",
    "    input_ids = encoded_sentence['input_ids']\n",
    "    attention_masks = encoded_sentence['attention_mask']\n",
    "    token_type_ids = encoded_sentence['token_type_ids']\n",
    "    prediction = model.predict([input_ids, attention_masks, token_type_ids])\n",
    "    return prediction\n",
    "\n",
    "prediction = keras_predict(model, tokenizer, predictionInput)\n",
    "print((prediction[0][0]))\n",
    "print(np.argmax(prediction[0][0]))\n"
   ]
  },
  {
   "cell_type": "code",
   "execution_count": 125,
   "metadata": {},
   "outputs": [
    {
     "name": "stdout",
     "output_type": "stream",
     "text": [
      "                           sentence\n",
      "0  The president is a big fat liar.\n",
      "1  This a is a factual bit of text.\n",
      "1/1 [==============================] - 0s 234ms/step\n",
      "1/1 [==============================] - 0s 229ms/step\n",
      "[0, 1]\n"
     ]
    }
   ],
   "source": [
    "\n",
    "\n",
    "predictionInput = pd.DataFrame([\"The president is a big fat liar.\", \"This a is a factual bit of text.\"], columns=['sentence'])\n",
    "print(predictionInput)\n",
    "MAX_LEN = 10\n",
    "classes = ['non-biased', 'biased']\n",
    "pred = []\n",
    "for entry in predictionInput['sentence']:\n",
    "  encoded_sentence = tokenizer.encode_plus(entry, add_special_tokens=True, max_length=512, padding=False, return_attention_mask=True, return_tensors='tf')\n",
    "  input_ids = encoded_sentence['input_ids']\n",
    "  attention_masks = encoded_sentence['attention_mask']\n",
    "  token_type_ids = encoded_sentence['token_type_ids']\n",
    "  prediction = model.predict([input_ids, attention_masks, token_type_ids])\n",
    "  pred.append(np.argmax(prediction[0][0]))\n",
    "  # Get keras tensor attention mask and input ids\n",
    "\n",
    "\n",
    "print(pred)\n"
   ]
  },
  {
   "cell_type": "code",
   "execution_count": null,
   "metadata": {},
   "outputs": [],
   "source": []
  }
 ],
 "metadata": {
  "kernelspec": {
   "display_name": "Python 3",
   "language": "python",
   "name": "python3"
  },
  "language_info": {
   "codemirror_mode": {
    "name": "ipython",
    "version": 3
   },
   "file_extension": ".py",
   "mimetype": "text/x-python",
   "name": "python",
   "nbconvert_exporter": "python",
   "pygments_lexer": "ipython3",
   "version": "3.10.7 (tags/v3.10.7:6cc6b13, Sep  5 2022, 14:08:36) [MSC v.1933 64 bit (AMD64)]"
  },
  "orig_nbformat": 4,
  "vscode": {
   "interpreter": {
    "hash": "b2abd1138ce1c26e3850e921765871411c611b4978bcd07656c7e4d1d85e9831"
   }
  }
 },
 "nbformat": 4,
 "nbformat_minor": 2
}
